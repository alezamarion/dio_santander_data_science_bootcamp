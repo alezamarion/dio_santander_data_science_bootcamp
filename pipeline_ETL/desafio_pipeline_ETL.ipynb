{
  "cells": [
    {
      "cell_type": "markdown",
      "metadata": {
        "id": "BPJQsTCULaC-"
      },
      "source": [
        "# Santander Dev Week 2023 (ETL com Python)"
      ]
    },
    {
      "cell_type": "code",
      "execution_count": 26,
      "metadata": {
        "id": "FKqLC_CWoYqR"
      },
      "outputs": [],
      "source": [
        "# Armazenando o endereço da API\n",
        "sdw2023_api_url = 'https://sdw-2023-prd.up.railway.app'"
      ]
    },
    {
      "cell_type": "markdown",
      "metadata": {
        "id": "9dfI-o7gLRq9"
      },
      "source": [
        "## **E**xtract\n",
        "\n",
        "Extraindo a lista de IDs de usuário do arquivo CSV."
      ]
    },
    {
      "cell_type": "code",
      "execution_count": 27,
      "metadata": {
        "colab": {
          "base_uri": "https://localhost:8080/"
        },
        "id": "NYydpX_GLRCB",
        "outputId": "98b33e26-b7d0-4bb0-8979-4858fc5820c6"
      },
      "outputs": [
        {
          "name": "stdout",
          "output_type": "stream",
          "text": [
            "[2777, 2778, 2780]\n"
          ]
        }
      ],
      "source": [
        "import pandas as pd\n",
        "\n",
        "df = pd.read_csv('pipeline_etl.csv')\n",
        "user_ids = df['UserID'].tolist()\n",
        "print(user_ids)"
      ]
    },
    {
      "cell_type": "code",
      "execution_count": 28,
      "metadata": {
        "colab": {
          "base_uri": "https://localhost:8080/"
        },
        "id": "F5XOuCZGSTGw",
        "outputId": "4a6f999d-c496-40db-be51-bfdd35a1f66e"
      },
      "outputs": [
        {
          "name": "stdout",
          "output_type": "stream",
          "text": [
            "[\n",
            "  {\n",
            "    \"id\": 2777,\n",
            "    \"name\": \"User_fourth\",\n",
            "    \"account\": {\n",
            "      \"id\": 2931,\n",
            "      \"number\": \"4444444-4\",\n",
            "      \"agency\": \"0001\",\n",
            "      \"balance\": 0.0,\n",
            "      \"limit\": 1000.0\n",
            "    },\n",
            "    \"card\": {\n",
            "      \"id\": 2696,\n",
            "      \"number\": \"**** **** 4444 5678\",\n",
            "      \"limit\": 1000.0\n",
            "    },\n",
            "    \"features\": [\n",
            "      {\n",
            "        \"id\": 927,\n",
            "        \"icon\": \"string\",\n",
            "        \"description\": \"string\"\n",
            "      }\n",
            "    ],\n",
            "    \"news\": [\n",
            "      {\n",
            "        \"id\": 5514,\n",
            "        \"icon\": \"string\",\n",
            "        \"description\": \"string\"\n",
            "      },\n",
            "      {\n",
            "        \"id\": 5536,\n",
            "        \"icon\": \"https://digitalinnovationone.github.io/santander-dev-week-2023-api/icons/credit.svg\",\n",
            "        \"description\": \"Garanta seu futuro com investimentos! Transforme sonhos em realidade e construa independ\\u00eancia financeira.\"\n",
            "      },\n",
            "      {\n",
            "        \"id\": 5537,\n",
            "        \"icon\": \"https://digitalinnovationone.github.io/santander-dev-week-2023-api/icons/credit.svg\",\n",
            "        \"description\": \"Invista em Bitcoins! Por ser descentralizado, oferece mais liberdade financeira e potencial de crescimento.\"\n",
            "      },\n",
            "      {\n",
            "        \"id\": 5538,\n",
            "        \"icon\": \"https://digitalinnovationone.github.io/santander-dev-week-2023-api/icons/credit.svg\",\n",
            "        \"description\": \"Bitcoins aumentam portf\\u00f3lio financeiro, oferecem diversidade e resist\\u00eancia contra flutua\\u00e7\\u00f5es de mercado.\"\n",
            "      },\n",
            "      {\n",
            "        \"id\": 5539,\n",
            "        \"icon\": \"https://digitalinnovationone.github.io/santander-dev-week-2023-api/icons/credit.svg\",\n",
            "        \"description\": \"Invista em Bitcoin: seguro contra autoritarismo! Proteja sua liberdade e valorize seu dinheiro.\"\n",
            "      },\n",
            "      {\n",
            "        \"id\": 5540,\n",
            "        \"icon\": \"https://digitalinnovationone.github.io/santander-dev-week-2023-api/icons/credit.svg\",\n",
            "        \"description\": \"Liberte-se do sistema convencional. Compre Bitcoin, o ouro digital. Sua jornada para a liberdade financeira come\\u00e7a agora!\"\n",
            "      },\n",
            "      {\n",
            "        \"id\": 5541,\n",
            "        \"icon\": \"https://digitalinnovationone.github.io/santander-dev-week-2023-api/icons/credit.svg\",\n",
            "        \"description\": \"Evite empr\\u00e9stimos! Poder\\u00e1 gerar d\\u00edvidas maiores que seus recursos. Salve primeiro, gaste depois!\"\n",
            "      }\n",
            "    ]\n",
            "  },\n",
            "  {\n",
            "    \"id\": 2778,\n",
            "    \"name\": \"User_fifth\",\n",
            "    \"account\": {\n",
            "      \"id\": 2932,\n",
            "      \"number\": \"5555555-5\",\n",
            "      \"agency\": \"0001\",\n",
            "      \"balance\": 0.0,\n",
            "      \"limit\": 1000.0\n",
            "    },\n",
            "    \"card\": {\n",
            "      \"id\": 2697,\n",
            "      \"number\": \"**** **** 5555 5678\",\n",
            "      \"limit\": 1000.0\n",
            "    },\n",
            "    \"features\": [\n",
            "      {\n",
            "        \"id\": 928,\n",
            "        \"icon\": \"string\",\n",
            "        \"description\": \"string\"\n",
            "      }\n",
            "    ],\n",
            "    \"news\": [\n",
            "      {\n",
            "        \"id\": 5515,\n",
            "        \"icon\": \"string\",\n",
            "        \"description\": \"string\"\n",
            "      },\n",
            "      {\n",
            "        \"id\": 5542,\n",
            "        \"icon\": \"https://digitalinnovationone.github.io/santander-dev-week-2023-api/icons/credit.svg\",\n",
            "        \"description\": \"Invista para garantir seu futuro. No mundo banc\\u00e1rio, seu dinheiro pode trabalhar por voc\\u00ea!\"\n",
            "      },\n",
            "      {\n",
            "        \"id\": 5543,\n",
            "        \"icon\": \"https://digitalinnovationone.github.io/santander-dev-week-2023-api/icons/credit.svg\",\n",
            "        \"description\": \"Investir em Bitcoin \\u00e9 futuro! Garanta crescimento financeiro e seguran\\u00e7a com criptomoedas. Aja j\\u00e1!\"\n",
            "      },\n",
            "      {\n",
            "        \"id\": 5544,\n",
            "        \"icon\": \"https://digitalinnovationone.github.io/santander-dev-week-2023-api/icons/credit.svg\",\n",
            "        \"description\": \"Bitcoins: um ativo em crescimento que pode diversificar seu portf\\u00f3lio financeiro.\"\n",
            "      },\n",
            "      {\n",
            "        \"id\": 5545,\n",
            "        \"icon\": \"https://digitalinnovationone.github.io/santander-dev-week-2023-api/icons/credit.svg\",\n",
            "        \"description\": \"Garanta autonomia com Bitcoins, sedo seguro contra autoritarismo. Invista em liberdade financeira!\"\n",
            "      },\n",
            "      {\n",
            "        \"id\": 5546,\n",
            "        \"icon\": \"https://digitalinnovationone.github.io/santander-dev-week-2023-api/icons/credit.svg\",\n",
            "        \"description\": \"Diversifique seu patrim\\u00f4nio com Bitcoin, escape da finan\\u00e7a tradicional e explore um novo poder de controle!\"\n",
            "      },\n",
            "      {\n",
            "        \"id\": 5547,\n",
            "        \"icon\": \"https://digitalinnovationone.github.io/santander-dev-week-2023-api/icons/credit.svg\",\n",
            "        \"description\": \"Evite empr\\u00e9stimos! Sujeito a altas taxas de juros, pode levar a d\\u00edvidas incontrol\\u00e1veis. Economize e cres\\u00e7a!\"\n",
            "      }\n",
            "    ]\n",
            "  },\n",
            "  {\n",
            "    \"id\": 2780,\n",
            "    \"name\": \"User_seventh\",\n",
            "    \"account\": {\n",
            "      \"id\": 2934,\n",
            "      \"number\": \"77777777-\",\n",
            "      \"agency\": \"0001\",\n",
            "      \"balance\": 0.0,\n",
            "      \"limit\": 1000.0\n",
            "    },\n",
            "    \"card\": {\n",
            "      \"id\": 2699,\n",
            "      \"number\": \"**** **** 7777 5678\",\n",
            "      \"limit\": 1000.0\n",
            "    },\n",
            "    \"features\": [\n",
            "      {\n",
            "        \"id\": 930,\n",
            "        \"icon\": \"string\",\n",
            "        \"description\": \"string\"\n",
            "      }\n",
            "    ],\n",
            "    \"news\": [\n",
            "      {\n",
            "        \"id\": 5517,\n",
            "        \"icon\": \"string\",\n",
            "        \"description\": \"string\"\n",
            "      },\n",
            "      {\n",
            "        \"id\": 5548,\n",
            "        \"icon\": \"https://digitalinnovationone.github.io/santander-dev-week-2023-api/icons/credit.svg\",\n",
            "        \"description\": \"Investir \\u00e9 a chave para um futuro financeiro seguro. Cres\\u00e7a seu dinheiro, n\\u00e3o apenas guarde!\"\n",
            "      },\n",
            "      {\n",
            "        \"id\": 5549,\n",
            "        \"icon\": \"https://digitalinnovationone.github.io/santander-dev-week-2023-api/icons/credit.svg\",\n",
            "        \"description\": \"Investir em Bitcoin pode aumentar riquezas futuras. N\\u00e3o perca a oportunidade. Agir agora \\u00e9 essencial!\"\n",
            "      },\n",
            "      {\n",
            "        \"id\": 5550,\n",
            "        \"icon\": \"https://digitalinnovationone.github.io/santander-dev-week-2023-api/icons/credit.svg\",\n",
            "        \"description\": \"Bitcoins: diversifica\\u00e7\\u00e3o valiosa, prote\\u00e7\\u00e3o contra infla\\u00e7\\u00e3o e futuro digital.\"\n",
            "      },\n",
            "      {\n",
            "        \"id\": 5551,\n",
            "        \"icon\": \"https://digitalinnovationone.github.io/santander-dev-week-2023-api/icons/credit.svg\",\n",
            "        \"description\": \"Explore liberdade financeira com Bitcoin, um ref\\u00fagio seguro contra o autoritarismo governamental.\"\n",
            "      },\n",
            "      {\n",
            "        \"id\": 5552,\n",
            "        \"icon\": \"https://digitalinnovationone.github.io/santander-dev-week-2023-api/icons/credit.svg\",\n",
            "        \"description\": \"Com Bitcoins, obtenha liberdade financeira e esteja \\u00e0 frente no futuro da economia global. Invista j\\u00e1!\"\n",
            "      },\n",
            "      {\n",
            "        \"id\": 5553,\n",
            "        \"icon\": \"https://digitalinnovationone.github.io/santander-dev-week-2023-api/icons/credit.svg\",\n",
            "        \"description\": \"Evite empr\\u00e9stimos, User_seventh! Poupe, planeje, cres\\u00e7a com seguran\\u00e7a. D\\u00edvidas geram juros, controle \\u00e9 liberdade!\"\n",
            "      }\n",
            "    ]\n",
            "  }\n",
            "]\n"
          ]
        }
      ],
      "source": [
        "import requests\n",
        "import json\n",
        "\n",
        "def get_user(id):\n",
        "  response = requests.get(f'{sdw2023_api_url}/users/{id}')\n",
        "  return response.json() if response.status_code == 200 else None\n",
        "\n",
        "users = [user for id in user_ids if (user := get_user(id)) is not None]\n",
        "print(json.dumps(users, indent=2))\n"
      ]
    },
    {
      "cell_type": "markdown",
      "metadata": {
        "id": "cWoqInB4TF1x"
      },
      "source": [
        "## **T**ransform\n",
        "\n",
        "Utilizando a API do OpenAI GPT-4 para gerar uma mensagem para cada usuário."
      ]
    },
    {
      "cell_type": "code",
      "execution_count": 29,
      "metadata": {
        "colab": {
          "base_uri": "https://localhost:8080/"
        },
        "id": "O--PCAObTQkK",
        "outputId": "938d4ee9-066d-4a5b-9588-fd5952876f0a"
      },
      "outputs": [
        {
          "name": "stdout",
          "output_type": "stream",
          "text": [
            "Requirement already satisfied: openai in /usr/local/lib/python3.10/dist-packages (0.28.0)\n",
            "Requirement already satisfied: requests>=2.20 in /usr/local/lib/python3.10/dist-packages (from openai) (2.31.0)\n",
            "Requirement already satisfied: tqdm in /usr/local/lib/python3.10/dist-packages (from openai) (4.66.1)\n",
            "Requirement already satisfied: aiohttp in /usr/local/lib/python3.10/dist-packages (from openai) (3.8.5)\n",
            "Requirement already satisfied: charset-normalizer<4,>=2 in /usr/local/lib/python3.10/dist-packages (from requests>=2.20->openai) (3.2.0)\n",
            "Requirement already satisfied: idna<4,>=2.5 in /usr/local/lib/python3.10/dist-packages (from requests>=2.20->openai) (3.4)\n",
            "Requirement already satisfied: urllib3<3,>=1.21.1 in /usr/local/lib/python3.10/dist-packages (from requests>=2.20->openai) (2.0.4)\n",
            "Requirement already satisfied: certifi>=2017.4.17 in /usr/local/lib/python3.10/dist-packages (from requests>=2.20->openai) (2023.7.22)\n",
            "Requirement already satisfied: attrs>=17.3.0 in /usr/local/lib/python3.10/dist-packages (from aiohttp->openai) (23.1.0)\n",
            "Requirement already satisfied: multidict<7.0,>=4.5 in /usr/local/lib/python3.10/dist-packages (from aiohttp->openai) (6.0.4)\n",
            "Requirement already satisfied: async-timeout<5.0,>=4.0.0a3 in /usr/local/lib/python3.10/dist-packages (from aiohttp->openai) (4.0.3)\n",
            "Requirement already satisfied: yarl<2.0,>=1.0 in /usr/local/lib/python3.10/dist-packages (from aiohttp->openai) (1.9.2)\n",
            "Requirement already satisfied: frozenlist>=1.1.1 in /usr/local/lib/python3.10/dist-packages (from aiohttp->openai) (1.4.0)\n",
            "Requirement already satisfied: aiosignal>=1.1.2 in /usr/local/lib/python3.10/dist-packages (from aiohttp->openai) (1.3.1)\n"
          ]
        }
      ],
      "source": [
        "!pip install openai"
      ]
    },
    {
      "cell_type": "code",
      "execution_count": 30,
      "metadata": {
        "id": "sUB1doiDTX3y"
      },
      "outputs": [],
      "source": [
        "# Armazenando a API KEY:\n",
        "openai_api_key = 'secret... :D'"
      ]
    },
    {
      "cell_type": "code",
      "execution_count": 36,
      "metadata": {
        "colab": {
          "base_uri": "https://localhost:8080/"
        },
        "id": "n1w78kNxTrZY",
        "outputId": "a900a2d1-0337-4649-8a49-4fdbdc5940de"
      },
      "outputs": [
        {
          "name": "stdout",
          "output_type": "stream",
          "text": [
            "Invista em Bitcoin! Independente do controle do governo, seu valor seguro e livre para usá-lo como quiser.\n",
            "Bitcoins: Liberdade financeira sem embargos governamentais. Você controla sua riqueza.\n",
            "Invista em Bitcoin, a moeda que governos não controlam. Sua riqueza a salvo. Liberdade é Bitcoin!\n"
          ]
        }
      ],
      "source": [
        "# Gerando as mensagens para cada usuário\n",
        "import openai\n",
        "\n",
        "openai.api_key = openai_api_key\n",
        "\n",
        "def generate_ai_news(user):\n",
        "  completion = openai.ChatCompletion.create(\n",
        "    model=\"gpt-4\",\n",
        "    messages=[\n",
        "      {\n",
        "          \"role\": \"system\",\n",
        "          \"content\": \"Você é um especialista em markting bancário.\"\n",
        "      },\n",
        "      {\n",
        "          \"role\": \"user\",\n",
        "          \"content\": f\"Crie uma mensagem para {user['name']} sobre a importância de comprar Bitcoins, explicando que os governos não podem embargar Bitcoins da forma que podem embargar moedas convencionais. Já que sua riqueza não pode ser congelada, Bitcoin lhe dá a liberdade de fazer o que quiser com seu dinheiro (máximo de 100 caracteres)\"\n",
        "      }\n",
        "    ]\n",
        "  )\n",
        "  return completion.choices[0].message.content.strip('\\\"')\n",
        "\n",
        "for user in users:\n",
        "  news = generate_ai_news(user)\n",
        "  print(news)\n",
        "  user['news'].append({\n",
        "      \"icon\": \"https://digitalinnovationone.github.io/santander-dev-week-2023-api/icons/credit.svg\",\n",
        "      \"description\": news\n",
        "  })"
      ]
    },
    {
      "cell_type": "markdown",
      "metadata": {
        "id": "kNuP0SDUZMBY"
      },
      "source": [
        "## **L**oad\n",
        "\n",
        "Ao final, atualizar a lista de \"news\" de cada usuário na API com a nova mensagem gerada."
      ]
    },
    {
      "cell_type": "code",
      "execution_count": 37,
      "metadata": {
        "colab": {
          "base_uri": "https://localhost:8080/"
        },
        "id": "YefWfYBoZMN2",
        "outputId": "8ead279a-f4f7-43d7-cad4-3ac0ede7be03"
      },
      "outputs": [
        {
          "name": "stdout",
          "output_type": "stream",
          "text": [
            "User User_fourth updated? True!\n",
            "User User_fifth updated? True!\n",
            "User User_seventh updated? True!\n"
          ]
        }
      ],
      "source": [
        "def update_user(user):\n",
        "  response = requests.put(f\"{sdw2023_api_url}/users/{user['id']}\", json=user)\n",
        "  return True if response.status_code == 200 else False\n",
        "\n",
        "for user in users:\n",
        "  success = update_user(user)\n",
        "  print(f\"User {user['name']} updated? {success}!\")"
      ]
    }
  ],
  "metadata": {
    "colab": {
      "collapsed_sections": [
        "kNuP0SDUZMBY"
      ],
      "provenance": []
    },
    "kernelspec": {
      "display_name": "Python 3",
      "name": "python3"
    },
    "language_info": {
      "name": "python"
    }
  },
  "nbformat": 4,
  "nbformat_minor": 0
}
